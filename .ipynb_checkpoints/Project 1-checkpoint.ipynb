{
 "cells": [
  {
   "cell_type": "code",
   "execution_count": 9,
   "id": "96c73b27",
   "metadata": {},
   "outputs": [],
   "source": [
    "import requests\n",
    "import json\n",
    "import time"
   ]
  },
  {
   "cell_type": "code",
   "execution_count": 3,
   "id": "3a8c0840",
   "metadata": {},
   "outputs": [],
   "source": [
    "response_from_homwbrew_api = requests.get(\"https://formulae.brew.sh/api/formula.json\")"
   ]
  },
  {
   "cell_type": "code",
   "execution_count": 4,
   "id": "554b2cbf",
   "metadata": {},
   "outputs": [],
   "source": [
    "data_in_json_format = response_from_homwbrew_api.json()"
   ]
  },
  {
   "cell_type": "code",
   "execution_count": 14,
   "id": "78cccf4e",
   "metadata": {},
   "outputs": [
    {
     "name": "stdout",
     "output_type": "stream",
     "text": [
      "Got a2ps in  0.118258 seconds\n",
      "Finished in 0.24610630000006495 seconds\n"
     ]
    }
   ],
   "source": [
    "json_details = []\n",
    "\n",
    "t1 = time.perf_counter()\n",
    "for package in data_in_json_format:\n",
    "    package_name = package[\"name\"]\n",
    "    url = \"https://formulae.brew.sh/api/formula/\"+package_name+\".json\"\n",
    "    response_for_package = requests.get(url)\n",
    "    package_details = response_for_package.json()\n",
    "\n",
    "    app_name = package_details[\"name\"]\n",
    "    app_description = package_details[\"desc\"]\n",
    "    app_install_30days = package_details[\"analytics\"][\"install_on_request\"]['30d'][app_name]\n",
    "    app_install_90days = package_details[\"analytics\"][\"install_on_request\"]['90d'][app_name]\n",
    "    app_install_365days = package_details[\"analytics\"][\"install_on_request\"]['365d'][app_name]\n",
    "\n",
    "    #print(app_name,app_description, app_install_30days, app_install_90days, app_install_365days, sep=\"---\")\n",
    "\n",
    "    \n",
    "    json_format_app = {\n",
    "        \"app_name\": app_name, \n",
    "        \"app_description\": app_description, \n",
    "        \"app_installs\": {\n",
    "            \"30days\":  app_install_30days, \n",
    "            \"90days\":  app_install_90days, \n",
    "            \"365days\": app_install_365days\n",
    "        }\n",
    "    }\n",
    "    \n",
    "    json_details.append(json_format_app)\n",
    "     \n",
    "    time.sleep(response_for_package.elapsed.total_seconds())\n",
    "    print(f'Got {app_name} in  {response_for_package.elapsed.total_seconds()} seconds')\n",
    "    \n",
    "t2 = time.perf_counter()\n",
    "print(f\"Finished in {t2-t1} seconds\")\n",
    "\n",
    "with open(\"package_info.json\", 'w') as f:\n",
    "    json.dump(json_details, f, indent=2)"
   ]
  },
  {
   "cell_type": "code",
   "execution_count": null,
   "id": "4eaab3d7",
   "metadata": {},
   "outputs": [],
   "source": []
  },
  {
   "cell_type": "code",
   "execution_count": null,
   "id": "891a784a",
   "metadata": {},
   "outputs": [],
   "source": []
  },
  {
   "cell_type": "code",
   "execution_count": null,
   "id": "7b956625",
   "metadata": {},
   "outputs": [],
   "source": []
  },
  {
   "cell_type": "code",
   "execution_count": null,
   "id": "fece89eb",
   "metadata": {},
   "outputs": [],
   "source": []
  },
  {
   "cell_type": "code",
   "execution_count": 88,
   "id": "ce34a944",
   "metadata": {},
   "outputs": [
    {
     "data": {
      "text/plain": [
       "{'app_name': 'a2ps',\n",
       " 'app_description': 'Any-to-PostScript filter',\n",
       " 'app_installs': {'app_install_30days': 90,\n",
       "  'app_install_90days': 90,\n",
       "  'app_install_365days': 90}}"
      ]
     },
     "execution_count": 88,
     "metadata": {},
     "output_type": "execute_result"
    }
   ],
   "source": [
    "json_format_app"
   ]
  },
  {
   "cell_type": "code",
   "execution_count": null,
   "id": "74f231d9",
   "metadata": {},
   "outputs": [],
   "source": []
  },
  {
   "cell_type": "code",
   "execution_count": null,
   "id": "e57d17d4",
   "metadata": {},
   "outputs": [],
   "source": []
  },
  {
   "cell_type": "code",
   "execution_count": null,
   "id": "1d62e694",
   "metadata": {},
   "outputs": [],
   "source": []
  },
  {
   "cell_type": "code",
   "execution_count": null,
   "id": "755f554c",
   "metadata": {},
   "outputs": [],
   "source": []
  },
  {
   "cell_type": "code",
   "execution_count": null,
   "id": "641b2f14",
   "metadata": {},
   "outputs": [],
   "source": []
  },
  {
   "cell_type": "code",
   "execution_count": 68,
   "id": "80088c54",
   "metadata": {},
   "outputs": [
    {
     "data": {
      "text/plain": [
       "('a2ps', 'Any-to-PostScript filter', 90, 296, 1096)"
      ]
     },
     "execution_count": 68,
     "metadata": {},
     "output_type": "execute_result"
    }
   ],
   "source": [
    "app_name,app_description, app_install_30days, app_install_90days, app_install_365days"
   ]
  },
  {
   "cell_type": "code",
   "execution_count": 76,
   "id": "68469539",
   "metadata": {},
   "outputs": [],
   "source": [
    "json_format_app = {\"app_name\": app_name, \"app_description\": app_description, \"app_installs\": {\"app_install_30days\": app_install_30days, \"app_install_90days\":app_install_30days, \"app_install_365days\":app_install_30days}}"
   ]
  },
  {
   "cell_type": "code",
   "execution_count": 78,
   "id": "298dc89d",
   "metadata": {},
   "outputs": [
    {
     "data": {
      "text/plain": [
       "{'app_name': 'a2ps',\n",
       " 'app_description': 'Any-to-PostScript filter',\n",
       " 'app_installs': {'app_install_30days': 90,\n",
       "  'app_install_90days': 90,\n",
       "  'app_install_365days': 90}}"
      ]
     },
     "execution_count": 78,
     "metadata": {},
     "output_type": "execute_result"
    }
   ],
   "source": [
    "json_format_app"
   ]
  },
  {
   "cell_type": "code",
   "execution_count": null,
   "id": "15a0e9e7",
   "metadata": {},
   "outputs": [],
   "source": []
  },
  {
   "cell_type": "code",
   "execution_count": 79,
   "id": "aeaa737e",
   "metadata": {},
   "outputs": [],
   "source": [
    "json_details = []\n",
    "json_details.append(json_format_app)"
   ]
  },
  {
   "cell_type": "code",
   "execution_count": 80,
   "id": "3ccf9404",
   "metadata": {},
   "outputs": [
    {
     "data": {
      "text/plain": [
       "[{'app_name': 'a2ps',\n",
       "  'app_description': 'Any-to-PostScript filter',\n",
       "  'app_installs': {'app_install_30days': 90,\n",
       "   'app_install_90days': 90,\n",
       "   'app_install_365days': 90}}]"
      ]
     },
     "execution_count": 80,
     "metadata": {},
     "output_type": "execute_result"
    }
   ],
   "source": [
    "json_details"
   ]
  },
  {
   "cell_type": "code",
   "execution_count": 40,
   "id": "4d826eb2",
   "metadata": {},
   "outputs": [],
   "source": [
    "a2ps_request = requests.get(url)"
   ]
  },
  {
   "cell_type": "code",
   "execution_count": 45,
   "id": "d40a35bc",
   "metadata": {},
   "outputs": [],
   "source": [
    "a2ps_app_details = a2ps_request.json()"
   ]
  },
  {
   "cell_type": "code",
   "execution_count": 48,
   "id": "53b57af2",
   "metadata": {},
   "outputs": [],
   "source": [
    "#a2ps_app_details#"
   ]
  },
  {
   "cell_type": "code",
   "execution_count": 64,
   "id": "8ef0b528",
   "metadata": {},
   "outputs": [],
   "source": [
    "app_name = a2ps_app_details[\"name\"]\n",
    "app_description = a2ps_app_details[\"desc\"]\n",
    "app_install_30days = a2ps_app_details[\"analytics\"][\"install\"]['30d'][app_name]\n",
    "app_install_90days = a2ps_app_details[\"analytics\"][\"install\"]['90d'][app_name]\n",
    "app_install_365days = a2ps_app_details[\"analytics\"][\"install\"]['365d'][app_name]"
   ]
  },
  {
   "cell_type": "code",
   "execution_count": 65,
   "id": "58332f38",
   "metadata": {},
   "outputs": [
    {
     "data": {
      "text/plain": [
       "('a2ps', 'Any-to-PostScript filter', 90, 296, 1096)"
      ]
     },
     "execution_count": 65,
     "metadata": {},
     "output_type": "execute_result"
    }
   ],
   "source": [
    "app_name,app_description, app_install_30days, app_install_90days, app_install_365days"
   ]
  },
  {
   "cell_type": "code",
   "execution_count": null,
   "id": "3dd1984e",
   "metadata": {},
   "outputs": [],
   "source": []
  }
 ],
 "metadata": {
  "kernelspec": {
   "display_name": "Python 3",
   "language": "python",
   "name": "python3"
  },
  "language_info": {
   "codemirror_mode": {
    "name": "ipython",
    "version": 3
   },
   "file_extension": ".py",
   "mimetype": "text/x-python",
   "name": "python",
   "nbconvert_exporter": "python",
   "pygments_lexer": "ipython3",
   "version": "3.8.8"
  }
 },
 "nbformat": 4,
 "nbformat_minor": 5
}
